{
 "cells": [
  {
   "cell_type": "code",
   "execution_count": 1,
   "metadata": {},
   "outputs": [],
   "source": [
    "import numpy as np\n",
    "import pandas as pd\n",
    "import matplotlib.pyplot as plt\n",
    "%matplotlib inline"
   ]
  },
  {
   "cell_type": "code",
   "execution_count": 2,
   "metadata": {},
   "outputs": [],
   "source": [
    "# Key inputs from DCF model\n",
    "years = 5\n",
    "starting_sales = 31.0\n",
    "capex_percent = depr_percent = 0.032\n",
    "sales_growth = 0.1\n",
    "ebitda_margin = 0.14\n",
    "nwc_percent = 0.24\n",
    "tax_rate = 0.25"
   ]
  },
  {
   "cell_type": "code",
   "execution_count": 3,
   "metadata": {},
   "outputs": [],
   "source": [
    "# DCF assumptions\n",
    "r = 0.12\n",
    "g = 0.02"
   ]
  },
  {
   "cell_type": "code",
   "execution_count": 4,
   "metadata": {},
   "outputs": [],
   "source": [
    "# For MCS model\n",
    "iterations = 1000\n",
    "sales_std_dev = 0.01\n",
    "ebitda_std_dev = 0.02\n",
    "nwc_std_dev = 0.01"
   ]
  },
  {
   "cell_type": "code",
   "execution_count": 5,
   "metadata": {},
   "outputs": [],
   "source": [
    "def run_mcs():\n",
    "    \n",
    "    # Generate probability distributions\n",
    "    sales_growth_dist = np.random.normal(loc=sales_growth, \n",
    "                                         scale=sales_std_dev, \n",
    "                                         size=(years, iterations))\n",
    "    ebitda_margin_dist = np.random.normal(loc=ebitda_margin, \n",
    "                                          scale=ebitda_std_dev, \n",
    "                                          size=(years, iterations))\n",
    "    nwc_percent_dist = np.random.normal(loc=nwc_percent, \n",
    "                                        scale=nwc_std_dev, \n",
    "                                        size=(years, iterations))\n",
    "    \n",
    "    # Calculate free cash flow\n",
    "    sales_growth_dist += 1\n",
    "    for i in range(1, len(sales_growth_dist)):\n",
    "        sales_growth_dist[i] *= sales_growth_dist[i-1]\n",
    "    sales = sales_growth_dist * starting_sales\n",
    "    ebitda = sales * ebitda_margin_dist\n",
    "    ebit = ebitda - (sales * depr_percent)\n",
    "    tax = -(ebit * tax_rate)\n",
    "    np.clip(tax, a_min=None, a_max=0)\n",
    "    nwc = nwc_percent_dist * sales\n",
    "    starting_nwc = starting_sales * nwc_percent\n",
    "    prev_year_nwc = np.roll(nwc, 1, axis=0)\n",
    "    prev_year_nwc[0] = starting_nwc\n",
    "    delta_nwc = prev_year_nwc - nwc\n",
    "    capex = -(sales * capex_percent)\n",
    "    free_cash_flow = ebitda + tax + delta_nwc + capex\n",
    "    # Discount cash flows to get DCF value\n",
    "    terminal_value = free_cash_flow[-1] * (1 + g) / (r - g)\n",
    "    discount_rates = [(1 / (1 + r)) ** i for i in range (1,6)]\n",
    "    dcf_value = sum((free_cash_flow.T * discount_rates).T) \n",
    "    dcf_value += terminal_value * discount_rates[-1]\n",
    "        \n",
    "    return dcf_value"
   ]
  },
  {
   "cell_type": "code",
   "execution_count": 6,
   "metadata": {},
   "outputs": [
    {
     "name": "stdout",
     "output_type": "stream",
     "text": [
      "CPU times: user 40.7 ms, sys: 3.61 ms, total: 44.3 ms\n",
      "Wall time: 47.1 ms\n"
     ]
    },
    {
     "data": {
      "image/png": "[encoded data removed]",
      "text/plain": [
       "<Figure size 432x288 with 1 Axes>"
      ]
     },
     "metadata": {
      "needs_background": "light"
     },
     "output_type": "display_data"
    }
   ],
   "source": [
    "%time plt.hist(run_mcs(), bins=20, density=True, color=\"r\")\n",
    "plt.show()"
   ]
  },
  {
   "cell_type": "code",
   "execution_count": null,
   "metadata": {},
   "outputs": [],
   "source": []
  }
 ],
 "metadata": {
  "kernelspec": {
   "display_name": "Python 3",
   "language": "python",
   "name": "python3"
  },
  "language_info": {
   "codemirror_mode": {
    "name": "ipython",
    "version": 3
   },
   "file_extension": ".py",
   "mimetype": "text/x-python",
   "name": "python",
   "nbconvert_exporter": "python",
   "pygments_lexer": "ipython3",
   "version": "3.7.7"
  }
 },
 "nbformat": 4,
 "nbformat_minor": 4
}
